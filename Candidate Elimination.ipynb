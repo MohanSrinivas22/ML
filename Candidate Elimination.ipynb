{
 "cells": [
  {
   "cell_type": "code",
   "execution_count": 1,
   "metadata": {},
   "outputs": [],
   "source": [
    "import pandas as pd\n",
    "import numpy as np"
   ]
  },
  {
   "cell_type": "code",
   "execution_count": 3,
   "metadata": {},
   "outputs": [
    {
     "data": {
      "text/html": [
       "<div>\n",
       "<style scoped>\n",
       "    .dataframe tbody tr th:only-of-type {\n",
       "        vertical-align: middle;\n",
       "    }\n",
       "\n",
       "    .dataframe tbody tr th {\n",
       "        vertical-align: top;\n",
       "    }\n",
       "\n",
       "    .dataframe thead th {\n",
       "        text-align: right;\n",
       "    }\n",
       "</style>\n",
       "<table border=\"1\" class=\"dataframe\">\n",
       "  <thead>\n",
       "    <tr style=\"text-align: right;\">\n",
       "      <th></th>\n",
       "      <th>Example</th>\n",
       "      <th>Sky</th>\n",
       "      <th>AirTemp</th>\n",
       "      <th>Humidity</th>\n",
       "      <th>Wind</th>\n",
       "      <th>Water</th>\n",
       "      <th>Forecast</th>\n",
       "      <th>EnjoySport</th>\n",
       "    </tr>\n",
       "  </thead>\n",
       "  <tbody>\n",
       "    <tr>\n",
       "      <th>0</th>\n",
       "      <td>1</td>\n",
       "      <td>Sunny</td>\n",
       "      <td>Warm</td>\n",
       "      <td>Normal</td>\n",
       "      <td>Strong</td>\n",
       "      <td>Warm</td>\n",
       "      <td>Same</td>\n",
       "      <td>Yes</td>\n",
       "    </tr>\n",
       "    <tr>\n",
       "      <th>1</th>\n",
       "      <td>2</td>\n",
       "      <td>Sunny</td>\n",
       "      <td>Warm</td>\n",
       "      <td>High</td>\n",
       "      <td>Strong</td>\n",
       "      <td>Warm</td>\n",
       "      <td>Same</td>\n",
       "      <td>Yes</td>\n",
       "    </tr>\n",
       "    <tr>\n",
       "      <th>2</th>\n",
       "      <td>3</td>\n",
       "      <td>Rainy</td>\n",
       "      <td>Cold</td>\n",
       "      <td>High</td>\n",
       "      <td>Strong</td>\n",
       "      <td>Warm</td>\n",
       "      <td>Change</td>\n",
       "      <td>No</td>\n",
       "    </tr>\n",
       "    <tr>\n",
       "      <th>3</th>\n",
       "      <td>4</td>\n",
       "      <td>Sunny</td>\n",
       "      <td>Warm</td>\n",
       "      <td>High</td>\n",
       "      <td>Strong</td>\n",
       "      <td>Cool</td>\n",
       "      <td>Change</td>\n",
       "      <td>Yes</td>\n",
       "    </tr>\n",
       "  </tbody>\n",
       "</table>\n",
       "</div>"
      ],
      "text/plain": [
       "   Example    Sky AirTemp Humidity    Wind Water Forecast EnjoySport\n",
       "0        1  Sunny    Warm   Normal  Strong  Warm     Same        Yes\n",
       "1        2  Sunny    Warm     High  Strong  Warm     Same        Yes\n",
       "2        3  Rainy    Cold     High  Strong  Warm   Change         No\n",
       "3        4  Sunny    Warm     High  Strong  Cool   Change        Yes"
      ]
     },
     "execution_count": 3,
     "metadata": {},
     "output_type": "execute_result"
    }
   ],
   "source": [
    "dataframe = pd.read_csv(\"E:/Pdfs/4-1/ML Lab/EnjoySport.csv\")\n",
    "dataframe"
   ]
  },
  {
   "cell_type": "code",
   "execution_count": 7,
   "metadata": {},
   "outputs": [
    {
     "name": "stdout",
     "output_type": "stream",
     "text": [
      "[['Sunny' 'Warm' 'Normal' 'Strong' 'Warm' 'Same']\n",
      " ['Sunny' 'Warm' 'High' 'Strong' 'Warm' 'Same']\n",
      " ['Rainy' 'Cold' 'High' 'Strong' 'Warm' 'Change']\n",
      " ['Sunny' 'Warm' 'High' 'Strong' 'Cool' 'Change']]\n",
      "\n",
      "['Yes' 'Yes' 'No' 'Yes']\n"
     ]
    }
   ],
   "source": [
    "concept = np.array(dataframe)[:, 1:-1]\n",
    "target = np.array(dataframe)[:, -1]\n",
    "\n",
    "print(concepts, target, sep = \"\\n\\n\")"
   ]
  },
  {
   "cell_type": "code",
   "execution_count": 16,
   "metadata": {},
   "outputs": [
    {
     "name": "stdout",
     "output_type": "stream",
     "text": [
      "--------------------------------------\n",
      "h =  ['?', '?', '?', '?', '?', '?']\n",
      "g =  [['?', '?', '?', '?', '?', '?'], ['?', '?', '?', '?', '?', '?'], ['?', '?', '?', '?', '?', '?'], ['?', '?', '?', '?', '?', '?'], ['?', '?', '?', '?', '?', '?'], ['?', '?', '?', '?', '?', '?']]\n",
      "--------------------------------------\n",
      "--------------------------------------\n",
      "h =  ['Sunny' 'Warm' 'Normal' 'Strong' 'Warm' 'Same']\n",
      "g =  [['?', '?', '?', '?', '?', '?'], ['?', '?', '?', '?', '?', '?'], ['?', '?', '?', '?', '?', '?'], ['?', '?', '?', '?', '?', '?'], ['?', '?', '?', '?', '?', '?'], ['?', '?', '?', '?', '?', '?']]\n",
      "--------------------------------------\n",
      "--------------------------------------\n",
      "h =  ['Sunny' 'Warm' '?' 'Strong' 'Warm' 'Same']\n",
      "g =  [['?', '?', '?', '?', '?', '?'], ['?', '?', '?', '?', '?', '?'], ['?', '?', '?', '?', '?', '?'], ['?', '?', '?', '?', '?', '?'], ['?', '?', '?', '?', '?', '?'], ['?', '?', '?', '?', '?', '?']]\n",
      "--------------------------------------\n",
      "--------------------------------------\n",
      "h =  ['Sunny' 'Warm' '?' 'Strong' 'Warm' 'Same']\n",
      "g =  [['Sunny', '?', '?', '?', '?', '?'], ['?', 'Warm', '?', '?', '?', '?'], ['?', '?', '?', '?', '?', '?'], ['?', '?', '?', '?', '?', '?'], ['?', '?', '?', '?', '?', '?'], ['?', '?', '?', '?', '?', 'Same']]\n",
      "--------------------------------------\n",
      "--------------------------------------\n",
      "h =  ['Sunny' 'Warm' '?' 'Strong' '?' '?']\n",
      "g =  [['Sunny', '?', '?', '?', '?', '?'], ['?', 'Warm', '?', '?', '?', '?'], ['?', '?', '?', '?', '?', '?'], ['?', '?', '?', '?', '?', '?'], ['?', '?', '?', '?', '?', '?'], ['?', '?', '?', '?', '?', '?']]\n",
      "--------------------------------------\n",
      "\n",
      "Finally\n",
      "--------------------------------------\n",
      "h =  ['Sunny' 'Warm' '?' 'Strong' '?' '?']\n",
      "g =  [['Sunny', '?', '?', '?', '?', '?'], ['?', 'Warm', '?', '?', '?', '?']]\n",
      "--------------------------------------\n"
     ]
    }
   ],
   "source": [
    "n = len(concept[0])\n",
    "h = ['?' for i in range(n)]\n",
    "g = [['?' for i in range(n)] for j in range(n)]\n",
    "\n",
    "print('--------------------------------------')\n",
    "print(\"h = \", h)\n",
    "print(\"g = \", g)\n",
    "print('--------------------------------------')\n",
    "\n",
    "h = concept[0].copy()\n",
    "for i, sh in enumerate(concept):\n",
    "    if target[i] == 'Yes':\n",
    "        for ind in range(len(h)):\n",
    "            if h[ind] != sh[ind]: \n",
    "                h[ind] = '?'\n",
    "                g[ind][ind] = '?'\n",
    "    if target[i] == 'No':\n",
    "        for ind in range(len(h)):\n",
    "            if sh[ind] != h[ind]:\n",
    "                g[ind][ind] = h[ind]\n",
    "            else: g[ind][ind] = '?'\n",
    "                \n",
    "    print('--------------------------------------')\n",
    "    print(\"h = \", h)\n",
    "    print(\"g = \", g)\n",
    "    print('--------------------------------------')\n",
    "\n",
    "temp = g.copy()\n",
    "c = 0\n",
    "for i, x in enumerate(temp):\n",
    "    if x == ['?' for j in range(len(h))]: g.pop(i-c); c += 1\n",
    "        \n",
    "print('\\nFinally')\n",
    "print('--------------------------------------')\n",
    "print(\"h = \", h)\n",
    "print(\"g = \", g)\n",
    "print('--------------------------------------')"
   ]
  },
  {
   "cell_type": "code",
   "execution_count": null,
   "metadata": {},
   "outputs": [],
   "source": []
  }
 ],
 "metadata": {
  "kernelspec": {
   "display_name": "Python 3",
   "language": "python",
   "name": "python3"
  },
  "language_info": {
   "codemirror_mode": {
    "name": "ipython",
    "version": 3
   },
   "file_extension": ".py",
   "mimetype": "text/x-python",
   "name": "python",
   "nbconvert_exporter": "python",
   "pygments_lexer": "ipython3",
   "version": "3.8.5"
  }
 },
 "nbformat": 4,
 "nbformat_minor": 4
}
